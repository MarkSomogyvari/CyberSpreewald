{
 "cells": [
  {
   "cell_type": "code",
   "execution_count": 3,
   "id": "a9b92453",
   "metadata": {},
   "outputs": [],
   "source": [
    "import numpy as np\n",
    "import matplotlib.pyplot as plt\n",
    "import pandas as pd"
   ]
  },
  {
   "cell_type": "markdown",
   "id": "0e54de62",
   "metadata": {},
   "source": [
    "## Create test model\n"
   ]
  },
  {
   "cell_type": "code",
   "execution_count": 11,
   "id": "73ff3e63",
   "metadata": {},
   "outputs": [
    {
     "data": {
      "text/html": [
       "<div>\n",
       "<style scoped>\n",
       "    .dataframe tbody tr th:only-of-type {\n",
       "        vertical-align: middle;\n",
       "    }\n",
       "\n",
       "    .dataframe tbody tr th {\n",
       "        vertical-align: top;\n",
       "    }\n",
       "\n",
       "    .dataframe thead th {\n",
       "        text-align: right;\n",
       "    }\n",
       "</style>\n",
       "<table border=\"1\" class=\"dataframe\">\n",
       "  <thead>\n",
       "    <tr style=\"text-align: right;\">\n",
       "      <th></th>\n",
       "      <th>X</th>\n",
       "      <th>Y</th>\n",
       "      <th>Name</th>\n",
       "    </tr>\n",
       "  </thead>\n",
       "  <tbody>\n",
       "    <tr>\n",
       "      <th>0</th>\n",
       "      <td>1</td>\n",
       "      <td>0</td>\n",
       "      <td>A</td>\n",
       "    </tr>\n",
       "    <tr>\n",
       "      <th>1</th>\n",
       "      <td>0</td>\n",
       "      <td>1</td>\n",
       "      <td>B</td>\n",
       "    </tr>\n",
       "    <tr>\n",
       "      <th>2</th>\n",
       "      <td>1</td>\n",
       "      <td>1</td>\n",
       "      <td>C</td>\n",
       "    </tr>\n",
       "    <tr>\n",
       "      <th>3</th>\n",
       "      <td>2</td>\n",
       "      <td>1</td>\n",
       "      <td>D</td>\n",
       "    </tr>\n",
       "    <tr>\n",
       "      <th>4</th>\n",
       "      <td>0</td>\n",
       "      <td>2</td>\n",
       "      <td>E</td>\n",
       "    </tr>\n",
       "    <tr>\n",
       "      <th>5</th>\n",
       "      <td>1</td>\n",
       "      <td>2</td>\n",
       "      <td>F</td>\n",
       "    </tr>\n",
       "    <tr>\n",
       "      <th>6</th>\n",
       "      <td>2</td>\n",
       "      <td>2</td>\n",
       "      <td>G</td>\n",
       "    </tr>\n",
       "    <tr>\n",
       "      <th>7</th>\n",
       "      <td>1</td>\n",
       "      <td>3</td>\n",
       "      <td>H</td>\n",
       "    </tr>\n",
       "  </tbody>\n",
       "</table>\n",
       "</div>"
      ],
      "text/plain": [
       "   X  Y Name\n",
       "0  1  0    A\n",
       "1  0  1    B\n",
       "2  1  1    C\n",
       "3  2  1    D\n",
       "4  0  2    E\n",
       "5  1  2    F\n",
       "6  2  2    G\n",
       "7  1  3    H"
      ]
     },
     "execution_count": 11,
     "metadata": {},
     "output_type": "execute_result"
    }
   ],
   "source": [
    "# Points\n",
    "d = {'X': [1, 0, 1, 2, 0, 1, 2, 1], 'Y': [0, 1, 1, 1, 2, 2, 2, 3], 'Name': ['A','B','C','D','E','F','G','H']}\n",
    "\n",
    "pf = pd.DataFrame(data=d)\n",
    "pf"
   ]
  },
  {
   "cell_type": "code",
   "execution_count": 12,
   "id": "91e81154",
   "metadata": {},
   "outputs": [
    {
     "data": {
      "text/plain": [
       "Text(0.5, 1.0, 'points')"
      ]
     },
     "execution_count": 12,
     "metadata": {},
     "output_type": "execute_result"
    },
    {
     "data": {
      "image/png": "[encoded data removed]",
      "text/plain": [
       "<Figure size 432x288 with 1 Axes>"
      ]
     },
     "metadata": {
      "needs_background": "light"
     },
     "output_type": "display_data"
    }
   ],
   "source": [
    "plt.plot(pf.X,pf.Y,'bo')\n",
    "plt.title('points')"
   ]
  },
  {
   "cell_type": "code",
   "execution_count": 14,
   "id": "6b4be847",
   "metadata": {},
   "outputs": [
    {
     "data": {
      "text/plain": [
       "X    1\n",
       "Y    0\n",
       "Name: 0, dtype: object"
      ]
     },
     "execution_count": 14,
     "metadata": {},
     "output_type": "execute_result"
    }
   ],
   "source": [
    "pf.iloc[0,:2]"
   ]
  },
  {
   "cell_type": "code",
   "execution_count": 38,
   "id": "0c86a3c2",
   "metadata": {},
   "outputs": [
    {
     "data": {
      "text/html": [
       "<div>\n",
       "<style scoped>\n",
       "    .dataframe tbody tr th:only-of-type {\n",
       "        vertical-align: middle;\n",
       "    }\n",
       "\n",
       "    .dataframe tbody tr th {\n",
       "        vertical-align: top;\n",
       "    }\n",
       "\n",
       "    .dataframe thead th {\n",
       "        text-align: right;\n",
       "    }\n",
       "</style>\n",
       "<table border=\"1\" class=\"dataframe\">\n",
       "  <thead>\n",
       "    <tr style=\"text-align: right;\">\n",
       "      <th></th>\n",
       "      <th>Xb</th>\n",
       "      <th>Yb</th>\n",
       "      <th>Xe</th>\n",
       "      <th>Ye</th>\n",
       "      <th>Name</th>\n",
       "    </tr>\n",
       "  </thead>\n",
       "  <tbody>\n",
       "    <tr>\n",
       "      <th>0</th>\n",
       "      <td>1</td>\n",
       "      <td>0</td>\n",
       "      <td>0</td>\n",
       "      <td>1</td>\n",
       "      <td>AB</td>\n",
       "    </tr>\n",
       "    <tr>\n",
       "      <th>1</th>\n",
       "      <td>1</td>\n",
       "      <td>0</td>\n",
       "      <td>1</td>\n",
       "      <td>1</td>\n",
       "      <td>AC</td>\n",
       "    </tr>\n",
       "    <tr>\n",
       "      <th>2</th>\n",
       "      <td>1</td>\n",
       "      <td>0</td>\n",
       "      <td>2</td>\n",
       "      <td>1</td>\n",
       "      <td>AD</td>\n",
       "    </tr>\n",
       "    <tr>\n",
       "      <th>3</th>\n",
       "      <td>0</td>\n",
       "      <td>1</td>\n",
       "      <td>1</td>\n",
       "      <td>1</td>\n",
       "      <td>BC</td>\n",
       "    </tr>\n",
       "    <tr>\n",
       "      <th>4</th>\n",
       "      <td>0</td>\n",
       "      <td>1</td>\n",
       "      <td>0</td>\n",
       "      <td>2</td>\n",
       "      <td>BE</td>\n",
       "    </tr>\n",
       "    <tr>\n",
       "      <th>5</th>\n",
       "      <td>1</td>\n",
       "      <td>1</td>\n",
       "      <td>2</td>\n",
       "      <td>1</td>\n",
       "      <td>CD</td>\n",
       "    </tr>\n",
       "    <tr>\n",
       "      <th>6</th>\n",
       "      <td>1</td>\n",
       "      <td>1</td>\n",
       "      <td>1</td>\n",
       "      <td>2</td>\n",
       "      <td>CF</td>\n",
       "    </tr>\n",
       "    <tr>\n",
       "      <th>7</th>\n",
       "      <td>2</td>\n",
       "      <td>1</td>\n",
       "      <td>2</td>\n",
       "      <td>2</td>\n",
       "      <td>DG</td>\n",
       "    </tr>\n",
       "    <tr>\n",
       "      <th>8</th>\n",
       "      <td>0</td>\n",
       "      <td>2</td>\n",
       "      <td>1</td>\n",
       "      <td>2</td>\n",
       "      <td>EF</td>\n",
       "    </tr>\n",
       "    <tr>\n",
       "      <th>9</th>\n",
       "      <td>0</td>\n",
       "      <td>2</td>\n",
       "      <td>1</td>\n",
       "      <td>3</td>\n",
       "      <td>EH</td>\n",
       "    </tr>\n",
       "    <tr>\n",
       "      <th>10</th>\n",
       "      <td>1</td>\n",
       "      <td>2</td>\n",
       "      <td>2</td>\n",
       "      <td>2</td>\n",
       "      <td>FG</td>\n",
       "    </tr>\n",
       "    <tr>\n",
       "      <th>11</th>\n",
       "      <td>1</td>\n",
       "      <td>2</td>\n",
       "      <td>1</td>\n",
       "      <td>3</td>\n",
       "      <td>FH</td>\n",
       "    </tr>\n",
       "    <tr>\n",
       "      <th>12</th>\n",
       "      <td>2</td>\n",
       "      <td>2</td>\n",
       "      <td>1</td>\n",
       "      <td>3</td>\n",
       "      <td>GH</td>\n",
       "    </tr>\n",
       "  </tbody>\n",
       "</table>\n",
       "</div>"
      ],
      "text/plain": [
       "    Xb  Yb  Xe  Ye Name\n",
       "0    1   0   0   1   AB\n",
       "1    1   0   1   1   AC\n",
       "2    1   0   2   1   AD\n",
       "3    0   1   1   1   BC\n",
       "4    0   1   0   2   BE\n",
       "5    1   1   2   1   CD\n",
       "6    1   1   1   2   CF\n",
       "7    2   1   2   2   DG\n",
       "8    0   2   1   2   EF\n",
       "9    0   2   1   3   EH\n",
       "10   1   2   2   2   FG\n",
       "11   1   2   1   3   FH\n",
       "12   2   2   1   3   GH"
      ]
     },
     "execution_count": 38,
     "metadata": {},
     "output_type": "execute_result"
    }
   ],
   "source": [
    "d = {'Xb': [1, 1, 1, 0, 0, 1, 1, 2, 0, 0, 1, 1, 2], \n",
    "     'Yb': [0, 0, 0, 1, 1, 1, 1, 1, 2, 2, 2, 2, 2], \n",
    "     'Xe': [0, 1, 2, 1, 0, 2, 1, 2, 1, 1, 2, 1, 1], \n",
    "     'Ye': [1, 1, 1, 1, 2, 1, 2, 2, 2, 3, 2, 3, 3],\n",
    "     'Name': ['AB','AC','AD','BC','BE','CD','CF','DG','EF','EH','FG','FH','GH']}\n",
    "df = pd.DataFrame(data=d)\n",
    "df"
   ]
  },
  {
   "cell_type": "markdown",
   "id": "3dc7f058",
   "metadata": {},
   "source": [
    "Instead of having a bloated table, I will define here a few functions that could simply create the extra geometric properties of the network on demand."
   ]
  },
  {
   "cell_type": "code",
   "execution_count": 52,
   "id": "ce3a2dd9",
   "metadata": {},
   "outputs": [],
   "source": [
    "#Support geometry functions\n",
    "def section_len(df):\n",
    "    return np.sqrt((df.Xe-df.Xb)**2+(df.Ye-df.Yb)**2)\n",
    "\n",
    "def section_angle(df):\n",
    "    return np.arctan((df.Ye-df.Yb)/(df.Xe-df.Xb))"
   ]
  },
  {
   "cell_type": "code",
   "execution_count": 53,
   "id": "7dc418f6",
   "metadata": {},
   "outputs": [
    {
     "data": {
      "text/plain": [
       "0    -0.785398\n",
       "1     1.570796\n",
       "2     0.785398\n",
       "3     0.000000\n",
       "4     1.570796\n",
       "5     0.000000\n",
       "6     1.570796\n",
       "7     1.570796\n",
       "8     0.000000\n",
       "9     0.785398\n",
       "10    0.000000\n",
       "11    1.570796\n",
       "12   -0.785398\n",
       "dtype: float64"
      ]
     },
     "execution_count": 53,
     "metadata": {},
     "output_type": "execute_result"
    }
   ],
   "source": [
    "section_angle(df)"
   ]
  },
  {
   "cell_type": "code",
   "execution_count": 29,
   "id": "0a8ef32c",
   "metadata": {},
   "outputs": [
    {
     "data": {
      "text/plain": [
       "[<matplotlib.lines.Line2D at 0x2327798eb50>]"
      ]
     },
     "execution_count": 29,
     "metadata": {},
     "output_type": "execute_result"
    },
    {
     "data": {
      "image/png": "[encoded data removed]",
      "text/plain": [
       "<Figure size 432x288 with 1 Axes>"
      ]
     },
     "metadata": {
      "needs_background": "light"
     },
     "output_type": "display_data"
    }
   ],
   "source": [
    "plt.plot(pf.X,pf.Y, 'ro')"
   ]
  },
  {
   "cell_type": "code",
   "execution_count": 96,
   "id": "f8227e4c",
   "metadata": {},
   "outputs": [
    {
     "data": {
      "text/plain": [
       "[<matplotlib.lines.Line2D at 0x23278602be0>,\n",
       " <matplotlib.lines.Line2D at 0x23278602c10>,\n",
       " <matplotlib.lines.Line2D at 0x23278602d30>,\n",
       " <matplotlib.lines.Line2D at 0x23278602e50>,\n",
       " <matplotlib.lines.Line2D at 0x23278602f70>,\n",
       " <matplotlib.lines.Line2D at 0x2327860d0d0>,\n",
       " <matplotlib.lines.Line2D at 0x2327860d1f0>,\n",
       " <matplotlib.lines.Line2D at 0x2327860d310>,\n",
       " <matplotlib.lines.Line2D at 0x2327860d430>,\n",
       " <matplotlib.lines.Line2D at 0x2327860d550>,\n",
       " <matplotlib.lines.Line2D at 0x23277c64a60>,\n",
       " <matplotlib.lines.Line2D at 0x2327860d670>,\n",
       " <matplotlib.lines.Line2D at 0x2327860d880>]"
      ]
     },
     "execution_count": 96,
     "metadata": {},
     "output_type": "execute_result"
    },
    {
     "data": {
      "image/png": "[encoded data removed]",
      "text/plain": [
       "<Figure size 432x288 with 1 Axes>"
      ]
     },
     "metadata": {
      "needs_background": "light"
     },
     "output_type": "display_data"
    }
   ],
   "source": [
    "plt.plot([df.Xb,df.Xe],[df.Yb,df.Ye])"
   ]
  },
  {
   "cell_type": "markdown",
   "id": "47a7723c",
   "metadata": {},
   "source": [
    "Create shorter segments"
   ]
  },
  {
   "cell_type": "code",
   "execution_count": 109,
   "id": "c046c5a9",
   "metadata": {},
   "outputs": [],
   "source": [
    "dx = 0.1\n",
    "L = section_len(df)\n",
    "alpha = section_angle(df)\n",
    "X_len = df.Xe-df.Xb \n",
    "Y_len = df.Ye-df.Yb\n",
    "\n",
    "DFN_Mat2 = np.array([[],[],[],[],[]]).T\n",
    "for i in range(0,len(df)):\n",
    "    n_seg = np.floor(L[i]/dx)\n",
    "    d_seg = L/n_seg\n",
    "\n",
    "    for j in range(0,int(n_seg)):\n",
    "        newline0 = df.Xb[i] + j*X_len[i]/n_seg\n",
    "        newline1 = df.Yb[i] + j*Y_len[i]/n_seg\n",
    "        newline2 = df.Xb[i] + (j+1)*X_len[i]/n_seg\n",
    "        newline3 = df.Yb[i] + (j+1)*Y_len[i]/n_seg\n",
    "        newline4 = df.Name[i]\n",
    "        \n",
    "        DFN_Mat2 = np.vstack([DFN_Mat2,[newline0,newline1,newline2,newline3,newline4]])\n",
    "        \n",
    "\n",
    "sf = pd.DataFrame(DFN_Mat2, columns = ['Xb','Yb','Xe','Ye','Name'])\n",
    "sf.iloc[:,0:4] = sf.iloc[:,0:4].astype('float')"
   ]
  },
  {
   "cell_type": "code",
   "execution_count": 110,
   "id": "d4078e23",
   "metadata": {},
   "outputs": [
    {
     "data": {
      "text/plain": [
       "[<matplotlib.lines.Line2D at 0x2327acb0cd0>]"
      ]
     },
     "execution_count": 110,
     "metadata": {},
     "output_type": "execute_result"
    },
    {
     "data": {
      "image/png": "[encoded data removed]",
      "text/plain": [
       "<Figure size 432x288 with 1 Axes>"
      ]
     },
     "metadata": {
      "needs_background": "light"
     },
     "output_type": "display_data"
    }
   ],
   "source": [
    "plt.plot(sf.Xe,sf.Ye,'ro')"
   ]
  },
  {
   "cell_type": "code",
   "execution_count": 111,
   "id": "2c2519ef",
   "metadata": {},
   "outputs": [
    {
     "data": {
      "text/plain": [
       "[<matplotlib.lines.Line2D at 0x2327ad1bac0>,\n",
       " <matplotlib.lines.Line2D at 0x2327ad1baf0>,\n",
       " <matplotlib.lines.Line2D at 0x2327ad1bc10>,\n",
       " <matplotlib.lines.Line2D at 0x2327ad1bd30>,\n",
       " <matplotlib.lines.Line2D at 0x2327ad1be50>,\n",
       " <matplotlib.lines.Line2D at 0x2327ad1bf70>,\n",
       " <matplotlib.lines.Line2D at 0x2327ad260d0>,\n",
       " <matplotlib.lines.Line2D at 0x2327ad261f0>,\n",
       " <matplotlib.lines.Line2D at 0x2327ad26310>,\n",
       " <matplotlib.lines.Line2D at 0x2327ad26430>,\n",
       " <matplotlib.lines.Line2D at 0x2327acf53a0>,\n",
       " <matplotlib.lines.Line2D at 0x2327ad26550>,\n",
       " <matplotlib.lines.Line2D at 0x2327ad26760>,\n",
       " <matplotlib.lines.Line2D at 0x2327ad26880>,\n",
       " <matplotlib.lines.Line2D at 0x2327ad269a0>,\n",
       " <matplotlib.lines.Line2D at 0x2327ad26ac0>,\n",
       " <matplotlib.lines.Line2D at 0x2327ad26be0>,\n",
       " <matplotlib.lines.Line2D at 0x2327ad26d00>,\n",
       " <matplotlib.lines.Line2D at 0x2327ad26e20>,\n",
       " <matplotlib.lines.Line2D at 0x2327ad26f40>,\n",
       " <matplotlib.lines.Line2D at 0x2327ad2e0a0>,\n",
       " <matplotlib.lines.Line2D at 0x2327ad2e1c0>,\n",
       " <matplotlib.lines.Line2D at 0x2327ad2e2e0>,\n",
       " <matplotlib.lines.Line2D at 0x2327ad2e400>,\n",
       " <matplotlib.lines.Line2D at 0x2327ad2e520>,\n",
       " <matplotlib.lines.Line2D at 0x2327ad2e640>,\n",
       " <matplotlib.lines.Line2D at 0x2327ad2e760>,\n",
       " <matplotlib.lines.Line2D at 0x2327ad2e880>,\n",
       " <matplotlib.lines.Line2D at 0x2327ad2e9a0>,\n",
       " <matplotlib.lines.Line2D at 0x2327ad2eac0>,\n",
       " <matplotlib.lines.Line2D at 0x2327ad2ebe0>,\n",
       " <matplotlib.lines.Line2D at 0x2327ad2ed00>,\n",
       " <matplotlib.lines.Line2D at 0x2327ad2ee20>,\n",
       " <matplotlib.lines.Line2D at 0x2327ad2ef40>,\n",
       " <matplotlib.lines.Line2D at 0x2327ad340a0>,\n",
       " <matplotlib.lines.Line2D at 0x2327ad341c0>,\n",
       " <matplotlib.lines.Line2D at 0x2327ad342e0>,\n",
       " <matplotlib.lines.Line2D at 0x2327ad34400>,\n",
       " <matplotlib.lines.Line2D at 0x2327ad34520>,\n",
       " <matplotlib.lines.Line2D at 0x2327ad34640>,\n",
       " <matplotlib.lines.Line2D at 0x2327ad34760>,\n",
       " <matplotlib.lines.Line2D at 0x2327ad34880>,\n",
       " <matplotlib.lines.Line2D at 0x2327ad349a0>,\n",
       " <matplotlib.lines.Line2D at 0x2327ad34ac0>,\n",
       " <matplotlib.lines.Line2D at 0x2327ad34be0>,\n",
       " <matplotlib.lines.Line2D at 0x2327ad34d00>,\n",
       " <matplotlib.lines.Line2D at 0x2327ad34e20>,\n",
       " <matplotlib.lines.Line2D at 0x2327ad34f40>,\n",
       " <matplotlib.lines.Line2D at 0x2327ad3a0a0>,\n",
       " <matplotlib.lines.Line2D at 0x2327ad3a1c0>,\n",
       " <matplotlib.lines.Line2D at 0x2327ad3a2e0>,\n",
       " <matplotlib.lines.Line2D at 0x2327ad3a400>,\n",
       " <matplotlib.lines.Line2D at 0x2327ad3a520>,\n",
       " <matplotlib.lines.Line2D at 0x2327ad3a640>,\n",
       " <matplotlib.lines.Line2D at 0x2327ad3a760>,\n",
       " <matplotlib.lines.Line2D at 0x2327ad3a880>,\n",
       " <matplotlib.lines.Line2D at 0x2327ad3a9a0>,\n",
       " <matplotlib.lines.Line2D at 0x2327ad3aac0>,\n",
       " <matplotlib.lines.Line2D at 0x2327ad3abe0>,\n",
       " <matplotlib.lines.Line2D at 0x2327ad3ad00>,\n",
       " <matplotlib.lines.Line2D at 0x2327ad3ae20>,\n",
       " <matplotlib.lines.Line2D at 0x2327ad3af40>,\n",
       " <matplotlib.lines.Line2D at 0x2327ad410a0>,\n",
       " <matplotlib.lines.Line2D at 0x2327ad411c0>,\n",
       " <matplotlib.lines.Line2D at 0x2327ad412e0>,\n",
       " <matplotlib.lines.Line2D at 0x2327ad41400>,\n",
       " <matplotlib.lines.Line2D at 0x2327ad41520>,\n",
       " <matplotlib.lines.Line2D at 0x2327ad41640>,\n",
       " <matplotlib.lines.Line2D at 0x2327ad41760>,\n",
       " <matplotlib.lines.Line2D at 0x2327ad41880>,\n",
       " <matplotlib.lines.Line2D at 0x2327ad419a0>,\n",
       " <matplotlib.lines.Line2D at 0x2327ad41ac0>,\n",
       " <matplotlib.lines.Line2D at 0x2327ad41be0>,\n",
       " <matplotlib.lines.Line2D at 0x2327ad41d00>,\n",
       " <matplotlib.lines.Line2D at 0x2327ad41e20>,\n",
       " <matplotlib.lines.Line2D at 0x2327ad41f40>,\n",
       " <matplotlib.lines.Line2D at 0x2327ad470a0>,\n",
       " <matplotlib.lines.Line2D at 0x2327ad471c0>,\n",
       " <matplotlib.lines.Line2D at 0x2327ad472e0>,\n",
       " <matplotlib.lines.Line2D at 0x2327ad47400>,\n",
       " <matplotlib.lines.Line2D at 0x2327ad47520>,\n",
       " <matplotlib.lines.Line2D at 0x2327ad47640>,\n",
       " <matplotlib.lines.Line2D at 0x2327ad47760>,\n",
       " <matplotlib.lines.Line2D at 0x2327ad47880>,\n",
       " <matplotlib.lines.Line2D at 0x2327ad479a0>,\n",
       " <matplotlib.lines.Line2D at 0x2327ad47ac0>,\n",
       " <matplotlib.lines.Line2D at 0x2327ad47be0>,\n",
       " <matplotlib.lines.Line2D at 0x2327ad47d00>,\n",
       " <matplotlib.lines.Line2D at 0x2327ad47e20>,\n",
       " <matplotlib.lines.Line2D at 0x2327ad47f40>,\n",
       " <matplotlib.lines.Line2D at 0x2327ad4d0a0>,\n",
       " <matplotlib.lines.Line2D at 0x2327ad4d1c0>,\n",
       " <matplotlib.lines.Line2D at 0x2327ad4d2e0>,\n",
       " <matplotlib.lines.Line2D at 0x2327ad4d400>,\n",
       " <matplotlib.lines.Line2D at 0x2327ad4d520>,\n",
       " <matplotlib.lines.Line2D at 0x2327ad4d640>,\n",
       " <matplotlib.lines.Line2D at 0x2327ad4d760>,\n",
       " <matplotlib.lines.Line2D at 0x2327ad4d880>,\n",
       " <matplotlib.lines.Line2D at 0x2327ad4d9a0>,\n",
       " <matplotlib.lines.Line2D at 0x2327ad4dac0>,\n",
       " <matplotlib.lines.Line2D at 0x2327ad4dbe0>,\n",
       " <matplotlib.lines.Line2D at 0x2327ad4dd00>,\n",
       " <matplotlib.lines.Line2D at 0x2327ad4de20>,\n",
       " <matplotlib.lines.Line2D at 0x2327ad4df40>,\n",
       " <matplotlib.lines.Line2D at 0x2327ad530a0>,\n",
       " <matplotlib.lines.Line2D at 0x2327ad531c0>,\n",
       " <matplotlib.lines.Line2D at 0x2327ad532e0>,\n",
       " <matplotlib.lines.Line2D at 0x2327ad53400>,\n",
       " <matplotlib.lines.Line2D at 0x2327ad53520>,\n",
       " <matplotlib.lines.Line2D at 0x2327ad53640>,\n",
       " <matplotlib.lines.Line2D at 0x2327ad53760>,\n",
       " <matplotlib.lines.Line2D at 0x2327ad53880>,\n",
       " <matplotlib.lines.Line2D at 0x2327ad539a0>,\n",
       " <matplotlib.lines.Line2D at 0x2327ad53ac0>,\n",
       " <matplotlib.lines.Line2D at 0x2327ad53be0>,\n",
       " <matplotlib.lines.Line2D at 0x2327ad53d00>,\n",
       " <matplotlib.lines.Line2D at 0x2327ad53e20>,\n",
       " <matplotlib.lines.Line2D at 0x2327ad53f40>,\n",
       " <matplotlib.lines.Line2D at 0x2327ad580a0>,\n",
       " <matplotlib.lines.Line2D at 0x2327ad581c0>,\n",
       " <matplotlib.lines.Line2D at 0x2327ad582e0>,\n",
       " <matplotlib.lines.Line2D at 0x2327ad58400>,\n",
       " <matplotlib.lines.Line2D at 0x2327ad58520>,\n",
       " <matplotlib.lines.Line2D at 0x2327ad58640>,\n",
       " <matplotlib.lines.Line2D at 0x2327ad58760>,\n",
       " <matplotlib.lines.Line2D at 0x2327ad58880>,\n",
       " <matplotlib.lines.Line2D at 0x2327ad589a0>,\n",
       " <matplotlib.lines.Line2D at 0x2327ad58ac0>,\n",
       " <matplotlib.lines.Line2D at 0x2327ad58be0>,\n",
       " <matplotlib.lines.Line2D at 0x2327ad58d00>,\n",
       " <matplotlib.lines.Line2D at 0x2327ad58e20>,\n",
       " <matplotlib.lines.Line2D at 0x2327ad58f40>,\n",
       " <matplotlib.lines.Line2D at 0x2327ad5e0a0>,\n",
       " <matplotlib.lines.Line2D at 0x2327ad5e1c0>,\n",
       " <matplotlib.lines.Line2D at 0x2327ad5e2e0>,\n",
       " <matplotlib.lines.Line2D at 0x2327ad5e400>,\n",
       " <matplotlib.lines.Line2D at 0x2327ad5e520>,\n",
       " <matplotlib.lines.Line2D at 0x2327ad5e640>,\n",
       " <matplotlib.lines.Line2D at 0x2327ad5e760>,\n",
       " <matplotlib.lines.Line2D at 0x2327ad5e880>,\n",
       " <matplotlib.lines.Line2D at 0x2327ad5e9a0>,\n",
       " <matplotlib.lines.Line2D at 0x23279c54cd0>,\n",
       " <matplotlib.lines.Line2D at 0x2327accfa30>,\n",
       " <matplotlib.lines.Line2D at 0x2327ad5ebe0>,\n",
       " <matplotlib.lines.Line2D at 0x2327ad5ed00>,\n",
       " <matplotlib.lines.Line2D at 0x2327ad5ee20>]"
      ]
     },
     "execution_count": 111,
     "metadata": {},
     "output_type": "execute_result"
    },
    {
     "data": {
      "image/png": "[encoded data removed]",
      "text/plain": [
       "<Figure size 432x288 with 1 Axes>"
      ]
     },
     "metadata": {
      "needs_background": "light"
     },
     "output_type": "display_data"
    }
   ],
   "source": [
    "plt.plot([sf.Xb,sf.Xe],[sf.Yb,sf.Ye])"
   ]
  },
  {
   "cell_type": "markdown",
   "id": "cf82a5c0",
   "metadata": {},
   "source": [
    "We have to test different discretizations"
   ]
  },
  {
   "cell_type": "markdown",
   "id": "390fb9ba",
   "metadata": {},
   "source": [
    "## Connectivity matrix"
   ]
  },
  {
   "cell_type": "code",
   "execution_count": 113,
   "id": "0a14dd35",
   "metadata": {},
   "outputs": [],
   "source": [
    "eps = 0.001\n",
    "Connect_Mat = np.ones([len(sf),6])*(-999) \n",
    "\n",
    "\n",
    "for i in range(0,len(sf)):\n",
    "        D55 = abs(sf.Xb[:]-sf.Xb[i])\n",
    "        D66 = abs(sf.Yb[:]-sf.Yb[i])\n",
    "        D77 = abs(sf.Xe[:]-sf.Xe[i])\n",
    "        D88 = abs(sf.Ye[:]-sf.Ye[i])\n",
    "        D57 = abs(sf.Xe[:]-sf.Xb[i])\n",
    "        D68 = abs(sf.Ye[:]-sf.Yb[i])\n",
    "        D75 = abs(sf.Xb[:]-sf.Xe[i])\n",
    "        D86 = abs(sf.Yb[:]-sf.Ye[i])\n",
    "        \n",
    "        index = np.where(((D55<=eps) & (D66<=eps)) | ((D77<=eps) & (D88<=eps)) | ((D57<= eps) & (D68<=eps)) | ((D75<=eps) & (D86<=eps)))\n",
    "        k = 0\n",
    "        for j in range(0,min(5,len(index[0]))):\n",
    "            if (index[0][j]!=i):\n",
    "                Connect_Mat[i,k] = index[0][j]\n",
    "                k = k+1"
   ]
  },
  {
   "cell_type": "code",
   "execution_count": 114,
   "id": "4462b484",
   "metadata": {},
   "outputs": [
    {
     "data": {
      "text/plain": [
       "array([[   1.,   14.,   24., -999., -999., -999.],\n",
       "       [   0.,    2., -999., -999., -999., -999.],\n",
       "       [   1.,    3., -999., -999., -999., -999.],\n",
       "       [   2.,    4., -999., -999., -999., -999.],\n",
       "       [   3.,    5., -999., -999., -999., -999.],\n",
       "       [   4.,    6., -999., -999., -999., -999.],\n",
       "       [   5.,    7., -999., -999., -999., -999.],\n",
       "       [   6.,    8., -999., -999., -999., -999.],\n",
       "       [   7.,    9., -999., -999., -999., -999.],\n",
       "       [   8.,   10., -999., -999., -999., -999.],\n",
       "       [   9.,   11., -999., -999., -999., -999.],\n",
       "       [  10.,   12., -999., -999., -999., -999.],\n",
       "       [  11.,   13., -999., -999., -999., -999.],\n",
       "       [  12.,   38.,   48., -999., -999., -999.],\n",
       "       [   0.,   15.,   24., -999., -999., -999.],\n",
       "       [  14.,   16., -999., -999., -999., -999.],\n",
       "       [  15.,   17., -999., -999., -999., -999.],\n",
       "       [  16.,   18., -999., -999., -999., -999.],\n",
       "       [  17.,   19., -999., -999., -999., -999.],\n",
       "       [  18.,   20., -999., -999., -999., -999.],\n",
       "       [  19.,   21., -999., -999., -999., -999.],\n",
       "       [  20.,   22., -999., -999., -999., -999.],\n",
       "       [  21.,   23., -999., -999., -999., -999.],\n",
       "       [  22.,   47.,   58.,   68., -999., -999.],\n",
       "       [   0.,   14.,   25., -999., -999., -999.],\n",
       "       [  24.,   26., -999., -999., -999., -999.],\n",
       "       [  25.,   27., -999., -999., -999., -999.],\n",
       "       [  26.,   28., -999., -999., -999., -999.],\n",
       "       [  27.,   29., -999., -999., -999., -999.],\n",
       "       [  28.,   30., -999., -999., -999., -999.],\n",
       "       [  29.,   31., -999., -999., -999., -999.],\n",
       "       [  30.,   32., -999., -999., -999., -999.],\n",
       "       [  31.,   33., -999., -999., -999., -999.],\n",
       "       [  32.,   34., -999., -999., -999., -999.],\n",
       "       [  33.,   35., -999., -999., -999., -999.],\n",
       "       [  34.,   36., -999., -999., -999., -999.],\n",
       "       [  35.,   37., -999., -999., -999., -999.],\n",
       "       [  36.,   67.,   78., -999., -999., -999.],\n",
       "       [  13.,   39.,   48., -999., -999., -999.],\n",
       "       [  38.,   40., -999., -999., -999., -999.],\n",
       "       [  39.,   41., -999., -999., -999., -999.],\n",
       "       [  40.,   42., -999., -999., -999., -999.],\n",
       "       [  41.,   43., -999., -999., -999., -999.],\n",
       "       [  42.,   44., -999., -999., -999., -999.],\n",
       "       [  43.,   45., -999., -999., -999., -999.],\n",
       "       [  44.,   46., -999., -999., -999., -999.],\n",
       "       [  45.,   47., -999., -999., -999., -999.],\n",
       "       [  23.,   46.,   58.,   68., -999., -999.],\n",
       "       [  13.,   38.,   49., -999., -999., -999.],\n",
       "       [  48.,   50., -999., -999., -999., -999.],\n",
       "       [  49.,   51., -999., -999., -999., -999.],\n",
       "       [  50.,   52., -999., -999., -999., -999.],\n",
       "       [  51.,   53., -999., -999., -999., -999.],\n",
       "       [  52.,   54., -999., -999., -999., -999.],\n",
       "       [  53.,   55., -999., -999., -999., -999.],\n",
       "       [  54.,   56., -999., -999., -999., -999.],\n",
       "       [  55.,   57., -999., -999., -999., -999.],\n",
       "       [  56.,   88.,   98., -999., -999., -999.],\n",
       "       [  23.,   47.,   59.,   68., -999., -999.],\n",
       "       [  58.,   60., -999., -999., -999., -999.],\n",
       "       [  59.,   61., -999., -999., -999., -999.],\n",
       "       [  60.,   62., -999., -999., -999., -999.],\n",
       "       [  61.,   63., -999., -999., -999., -999.],\n",
       "       [  62.,   64., -999., -999., -999., -999.],\n",
       "       [  63.,   65., -999., -999., -999., -999.],\n",
       "       [  64.,   66., -999., -999., -999., -999.],\n",
       "       [  65.,   67., -999., -999., -999., -999.],\n",
       "       [  37.,   66.,   78., -999., -999., -999.],\n",
       "       [  23.,   47.,   58.,   69., -999., -999.],\n",
       "       [  68.,   70., -999., -999., -999., -999.],\n",
       "       [  69.,   71., -999., -999., -999., -999.],\n",
       "       [  70.,   72., -999., -999., -999., -999.],\n",
       "       [  71.,   73., -999., -999., -999., -999.],\n",
       "       [  72.,   74., -999., -999., -999., -999.],\n",
       "       [  73.,   75., -999., -999., -999., -999.],\n",
       "       [  74.,   76., -999., -999., -999., -999.],\n",
       "       [  75.,   77., -999., -999., -999., -999.],\n",
       "       [  76.,   97.,  112.,  122., -999., -999.],\n",
       "       [  37.,   67.,   79., -999., -999., -999.],\n",
       "       [  78.,   80., -999., -999., -999., -999.],\n",
       "       [  79.,   81., -999., -999., -999., -999.],\n",
       "       [  80.,   82., -999., -999., -999., -999.],\n",
       "       [  81.,   83., -999., -999., -999., -999.],\n",
       "       [  82.,   84., -999., -999., -999., -999.],\n",
       "       [  83.,   85., -999., -999., -999., -999.],\n",
       "       [  84.,   86., -999., -999., -999., -999.],\n",
       "       [  85.,   87., -999., -999., -999., -999.],\n",
       "       [  86.,  121.,  132., -999., -999., -999.],\n",
       "       [  57.,   89.,   98., -999., -999., -999.],\n",
       "       [  88.,   90., -999., -999., -999., -999.],\n",
       "       [  89.,   91., -999., -999., -999., -999.],\n",
       "       [  90.,   92., -999., -999., -999., -999.],\n",
       "       [  91.,   93., -999., -999., -999., -999.],\n",
       "       [  92.,   94., -999., -999., -999., -999.],\n",
       "       [  93.,   95., -999., -999., -999., -999.],\n",
       "       [  94.,   96., -999., -999., -999., -999.],\n",
       "       [  95.,   97., -999., -999., -999., -999.],\n",
       "       [  77.,   96.,  112.,  122., -999., -999.],\n",
       "       [  57.,   88.,   99., -999., -999., -999.],\n",
       "       [  98.,  100., -999., -999., -999., -999.],\n",
       "       [  99.,  101., -999., -999., -999., -999.],\n",
       "       [ 100.,  102., -999., -999., -999., -999.],\n",
       "       [ 101.,  103., -999., -999., -999., -999.],\n",
       "       [ 102.,  104., -999., -999., -999., -999.],\n",
       "       [ 103.,  105., -999., -999., -999., -999.],\n",
       "       [ 104.,  106., -999., -999., -999., -999.],\n",
       "       [ 105.,  107., -999., -999., -999., -999.],\n",
       "       [ 106.,  108., -999., -999., -999., -999.],\n",
       "       [ 107.,  109., -999., -999., -999., -999.],\n",
       "       [ 108.,  110., -999., -999., -999., -999.],\n",
       "       [ 109.,  111., -999., -999., -999., -999.],\n",
       "       [ 110.,  131.,  145., -999., -999., -999.],\n",
       "       [  77.,   97.,  113.,  122., -999., -999.],\n",
       "       [ 112.,  114., -999., -999., -999., -999.],\n",
       "       [ 113.,  115., -999., -999., -999., -999.],\n",
       "       [ 114.,  116., -999., -999., -999., -999.],\n",
       "       [ 115.,  117., -999., -999., -999., -999.],\n",
       "       [ 116.,  118., -999., -999., -999., -999.],\n",
       "       [ 117.,  119., -999., -999., -999., -999.],\n",
       "       [ 118.,  120., -999., -999., -999., -999.],\n",
       "       [ 119.,  121., -999., -999., -999., -999.],\n",
       "       [  87.,  120.,  132., -999., -999., -999.],\n",
       "       [  77.,   97.,  112.,  123., -999., -999.],\n",
       "       [ 122.,  124., -999., -999., -999., -999.],\n",
       "       [ 123.,  125., -999., -999., -999., -999.],\n",
       "       [ 124.,  126., -999., -999., -999., -999.],\n",
       "       [ 125.,  127., -999., -999., -999., -999.],\n",
       "       [ 126.,  128., -999., -999., -999., -999.],\n",
       "       [ 127.,  129., -999., -999., -999., -999.],\n",
       "       [ 128.,  130., -999., -999., -999., -999.],\n",
       "       [ 129.,  131., -999., -999., -999., -999.],\n",
       "       [ 111.,  130.,  145., -999., -999., -999.],\n",
       "       [  87.,  121.,  133., -999., -999., -999.],\n",
       "       [ 132.,  134., -999., -999., -999., -999.],\n",
       "       [ 133.,  135., -999., -999., -999., -999.],\n",
       "       [ 134.,  136., -999., -999., -999., -999.],\n",
       "       [ 135.,  137., -999., -999., -999., -999.],\n",
       "       [ 136.,  138., -999., -999., -999., -999.],\n",
       "       [ 137.,  139., -999., -999., -999., -999.],\n",
       "       [ 138.,  140., -999., -999., -999., -999.],\n",
       "       [ 139.,  141., -999., -999., -999., -999.],\n",
       "       [ 140.,  142., -999., -999., -999., -999.],\n",
       "       [ 141.,  143., -999., -999., -999., -999.],\n",
       "       [ 142.,  144., -999., -999., -999., -999.],\n",
       "       [ 143.,  145., -999., -999., -999., -999.],\n",
       "       [ 111.,  131.,  144., -999., -999., -999.]])"
      ]
     },
     "execution_count": 114,
     "metadata": {},
     "output_type": "execute_result"
    }
   ],
   "source": [
    "Connect_Mat"
   ]
  },
  {
   "cell_type": "code",
   "execution_count": null,
   "id": "50a5997c",
   "metadata": {},
   "outputs": [],
   "source": []
  }
 ],
 "metadata": {
  "kernelspec": {
   "display_name": "Python 3 (ipykernel)",
   "language": "python",
   "name": "python3"
  },
  "language_info": {
   "codemirror_mode": {
    "name": "ipython",
    "version": 3
   },
   "file_extension": ".py",
   "mimetype": "text/x-python",
   "name": "python",
   "nbconvert_exporter": "python",
   "pygments_lexer": "ipython3",
   "version": "3.9.7"
  }
 },
 "nbformat": 4,
 "nbformat_minor": 5
}
