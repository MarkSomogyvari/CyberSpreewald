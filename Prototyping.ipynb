{
 "cells": [
  {
   "cell_type": "code",
   "execution_count": 1031,
   "id": "a1863f31",
   "metadata": {},
   "outputs": [],
   "source": [
    "import numpy as np\n",
    "import matplotlib.pyplot as plt\n",
    "import matplotlib\n",
    "import pandas as pd\n",
    "\n",
    "import scipy.sparse\n",
    "import scipy.sparse.linalg"
   ]
  },
  {
   "cell_type": "markdown",
   "id": "1a9fb618",
   "metadata": {},
   "source": [
    "## Create test model\n"
   ]
  },
  {
   "cell_type": "code",
   "execution_count": 1032,
   "id": "02de97e7",
   "metadata": {},
   "outputs": [
    {
     "data": {
      "text/html": [
       "<div>\n",
       "<style scoped>\n",
       "    .dataframe tbody tr th:only-of-type {\n",
       "        vertical-align: middle;\n",
       "    }\n",
       "\n",
       "    .dataframe tbody tr th {\n",
       "        vertical-align: top;\n",
       "    }\n",
       "\n",
       "    .dataframe thead th {\n",
       "        text-align: right;\n",
       "    }\n",
       "</style>\n",
       "<table border=\"1\" class=\"dataframe\">\n",
       "  <thead>\n",
       "    <tr style=\"text-align: right;\">\n",
       "      <th></th>\n",
       "      <th>X</th>\n",
       "      <th>Y</th>\n",
       "      <th>Name</th>\n",
       "    </tr>\n",
       "  </thead>\n",
       "  <tbody>\n",
       "    <tr>\n",
       "      <th>0</th>\n",
       "      <td>1</td>\n",
       "      <td>0</td>\n",
       "      <td>O</td>\n",
       "    </tr>\n",
       "    <tr>\n",
       "      <th>1</th>\n",
       "      <td>1</td>\n",
       "      <td>1</td>\n",
       "      <td>A</td>\n",
       "    </tr>\n",
       "    <tr>\n",
       "      <th>2</th>\n",
       "      <td>0</td>\n",
       "      <td>2</td>\n",
       "      <td>B</td>\n",
       "    </tr>\n",
       "    <tr>\n",
       "      <th>3</th>\n",
       "      <td>1</td>\n",
       "      <td>2</td>\n",
       "      <td>C</td>\n",
       "    </tr>\n",
       "    <tr>\n",
       "      <th>4</th>\n",
       "      <td>2</td>\n",
       "      <td>2</td>\n",
       "      <td>D</td>\n",
       "    </tr>\n",
       "    <tr>\n",
       "      <th>5</th>\n",
       "      <td>0</td>\n",
       "      <td>3</td>\n",
       "      <td>E</td>\n",
       "    </tr>\n",
       "    <tr>\n",
       "      <th>6</th>\n",
       "      <td>1</td>\n",
       "      <td>3</td>\n",
       "      <td>F</td>\n",
       "    </tr>\n",
       "    <tr>\n",
       "      <th>7</th>\n",
       "      <td>2</td>\n",
       "      <td>3</td>\n",
       "      <td>G</td>\n",
       "    </tr>\n",
       "    <tr>\n",
       "      <th>8</th>\n",
       "      <td>1</td>\n",
       "      <td>4</td>\n",
       "      <td>H</td>\n",
       "    </tr>\n",
       "    <tr>\n",
       "      <th>9</th>\n",
       "      <td>1</td>\n",
       "      <td>5</td>\n",
       "      <td>I</td>\n",
       "    </tr>\n",
       "  </tbody>\n",
       "</table>\n",
       "</div>"
      ],
      "text/plain": [
       "   X  Y Name\n",
       "0  1  0    O\n",
       "1  1  1    A\n",
       "2  0  2    B\n",
       "3  1  2    C\n",
       "4  2  2    D\n",
       "5  0  3    E\n",
       "6  1  3    F\n",
       "7  2  3    G\n",
       "8  1  4    H\n",
       "9  1  5    I"
      ]
     },
     "execution_count": 1032,
     "metadata": {},
     "output_type": "execute_result"
    }
   ],
   "source": [
    "# Points\n",
    "d = {'X': [1, 1, 0, 1, 2, 0, 1, 2, 1, 1], 'Y': [0, 1, 2, 2, 2, 3, 3, 3, 4, 5], \n",
    "     'Name': ['O','A','B','C','D','E','F','G','H','I']}\n",
    "\n",
    "pf = pd.DataFrame(data=d)\n",
    "pf"
   ]
  },
  {
   "cell_type": "code",
   "execution_count": 1033,
   "id": "8b28f22a",
   "metadata": {},
   "outputs": [
    {
     "data": {
      "text/plain": [
       "Text(0.5, 1.0, 'points')"
      ]
     },
     "execution_count": 1033,
     "metadata": {},
     "output_type": "execute_result"
    },
    {
     "data": {
      "image/png": "[encoded data removed]",
      "text/plain": [
       "<Figure size 432x288 with 1 Axes>"
      ]
     },
     "metadata": {
      "needs_background": "light"
     },
     "output_type": "display_data"
    }
   ],
   "source": [
    "plt.plot(pf.X,pf.Y,'bo')\n",
    "plt.title('points')"
   ]
  },
  {
   "cell_type": "code",
   "execution_count": 1034,
   "id": "79fc617e",
   "metadata": {},
   "outputs": [
    {
     "data": {
      "text/plain": [
       "X    1\n",
       "Y    0\n",
       "Name: 0, dtype: object"
      ]
     },
     "execution_count": 1034,
     "metadata": {},
     "output_type": "execute_result"
    }
   ],
   "source": [
    "pf.iloc[0,:2]"
   ]
  },
  {
   "cell_type": "code",
   "execution_count": 1035,
   "id": "bbcd6e17",
   "metadata": {},
   "outputs": [
    {
     "data": {
      "text/html": [
       "<div>\n",
       "<style scoped>\n",
       "    .dataframe tbody tr th:only-of-type {\n",
       "        vertical-align: middle;\n",
       "    }\n",
       "\n",
       "    .dataframe tbody tr th {\n",
       "        vertical-align: top;\n",
       "    }\n",
       "\n",
       "    .dataframe thead th {\n",
       "        text-align: right;\n",
       "    }\n",
       "</style>\n",
       "<table border=\"1\" class=\"dataframe\">\n",
       "  <thead>\n",
       "    <tr style=\"text-align: right;\">\n",
       "      <th></th>\n",
       "      <th>Xb</th>\n",
       "      <th>Yb</th>\n",
       "      <th>Xe</th>\n",
       "      <th>Ye</th>\n",
       "      <th>Width</th>\n",
       "      <th>Name</th>\n",
       "    </tr>\n",
       "  </thead>\n",
       "  <tbody>\n",
       "    <tr>\n",
       "      <th>0</th>\n",
       "      <td>1</td>\n",
       "      <td>0</td>\n",
       "      <td>1</td>\n",
       "      <td>1</td>\n",
       "      <td>1</td>\n",
       "      <td>OA</td>\n",
       "    </tr>\n",
       "    <tr>\n",
       "      <th>1</th>\n",
       "      <td>1</td>\n",
       "      <td>1</td>\n",
       "      <td>0</td>\n",
       "      <td>2</td>\n",
       "      <td>1</td>\n",
       "      <td>AB</td>\n",
       "    </tr>\n",
       "    <tr>\n",
       "      <th>2</th>\n",
       "      <td>1</td>\n",
       "      <td>1</td>\n",
       "      <td>1</td>\n",
       "      <td>2</td>\n",
       "      <td>1</td>\n",
       "      <td>AC</td>\n",
       "    </tr>\n",
       "    <tr>\n",
       "      <th>3</th>\n",
       "      <td>1</td>\n",
       "      <td>1</td>\n",
       "      <td>2</td>\n",
       "      <td>2</td>\n",
       "      <td>1</td>\n",
       "      <td>AD</td>\n",
       "    </tr>\n",
       "    <tr>\n",
       "      <th>4</th>\n",
       "      <td>0</td>\n",
       "      <td>2</td>\n",
       "      <td>1</td>\n",
       "      <td>2</td>\n",
       "      <td>1</td>\n",
       "      <td>BC</td>\n",
       "    </tr>\n",
       "    <tr>\n",
       "      <th>5</th>\n",
       "      <td>0</td>\n",
       "      <td>2</td>\n",
       "      <td>0</td>\n",
       "      <td>3</td>\n",
       "      <td>1</td>\n",
       "      <td>BE</td>\n",
       "    </tr>\n",
       "    <tr>\n",
       "      <th>6</th>\n",
       "      <td>1</td>\n",
       "      <td>2</td>\n",
       "      <td>2</td>\n",
       "      <td>2</td>\n",
       "      <td>1</td>\n",
       "      <td>CD</td>\n",
       "    </tr>\n",
       "    <tr>\n",
       "      <th>7</th>\n",
       "      <td>1</td>\n",
       "      <td>2</td>\n",
       "      <td>1</td>\n",
       "      <td>3</td>\n",
       "      <td>1</td>\n",
       "      <td>CF</td>\n",
       "    </tr>\n",
       "    <tr>\n",
       "      <th>8</th>\n",
       "      <td>2</td>\n",
       "      <td>2</td>\n",
       "      <td>2</td>\n",
       "      <td>3</td>\n",
       "      <td>1</td>\n",
       "      <td>DG</td>\n",
       "    </tr>\n",
       "    <tr>\n",
       "      <th>9</th>\n",
       "      <td>0</td>\n",
       "      <td>3</td>\n",
       "      <td>1</td>\n",
       "      <td>3</td>\n",
       "      <td>1</td>\n",
       "      <td>EF</td>\n",
       "    </tr>\n",
       "    <tr>\n",
       "      <th>10</th>\n",
       "      <td>0</td>\n",
       "      <td>3</td>\n",
       "      <td>1</td>\n",
       "      <td>4</td>\n",
       "      <td>1</td>\n",
       "      <td>EH</td>\n",
       "    </tr>\n",
       "    <tr>\n",
       "      <th>11</th>\n",
       "      <td>1</td>\n",
       "      <td>3</td>\n",
       "      <td>2</td>\n",
       "      <td>3</td>\n",
       "      <td>1</td>\n",
       "      <td>FG</td>\n",
       "    </tr>\n",
       "    <tr>\n",
       "      <th>12</th>\n",
       "      <td>1</td>\n",
       "      <td>3</td>\n",
       "      <td>1</td>\n",
       "      <td>4</td>\n",
       "      <td>1</td>\n",
       "      <td>FH</td>\n",
       "    </tr>\n",
       "    <tr>\n",
       "      <th>13</th>\n",
       "      <td>2</td>\n",
       "      <td>3</td>\n",
       "      <td>1</td>\n",
       "      <td>4</td>\n",
       "      <td>1</td>\n",
       "      <td>GH</td>\n",
       "    </tr>\n",
       "    <tr>\n",
       "      <th>14</th>\n",
       "      <td>1</td>\n",
       "      <td>4</td>\n",
       "      <td>1</td>\n",
       "      <td>5</td>\n",
       "      <td>1</td>\n",
       "      <td>HI</td>\n",
       "    </tr>\n",
       "  </tbody>\n",
       "</table>\n",
       "</div>"
      ],
      "text/plain": [
       "    Xb  Yb  Xe  Ye  Width Name\n",
       "0    1   0   1   1      1   OA\n",
       "1    1   1   0   2      1   AB\n",
       "2    1   1   1   2      1   AC\n",
       "3    1   1   2   2      1   AD\n",
       "4    0   2   1   2      1   BC\n",
       "5    0   2   0   3      1   BE\n",
       "6    1   2   2   2      1   CD\n",
       "7    1   2   1   3      1   CF\n",
       "8    2   2   2   3      1   DG\n",
       "9    0   3   1   3      1   EF\n",
       "10   0   3   1   4      1   EH\n",
       "11   1   3   2   3      1   FG\n",
       "12   1   3   1   4      1   FH\n",
       "13   2   3   1   4      1   GH\n",
       "14   1   4   1   5      1   HI"
      ]
     },
     "execution_count": 1035,
     "metadata": {},
     "output_type": "execute_result"
    }
   ],
   "source": [
    "d = {'Xb': [1, 1, 1, 1, 0, 0, 1, 1, 2, 0, 0, 1, 1, 2, 1], \n",
    "     'Yb': [0, 1, 1, 1, 2, 2, 2, 2, 2, 3, 3, 3, 3, 3, 4], \n",
    "     'Xe': [1, 0, 1, 2, 1, 0, 2, 1, 2, 1, 1, 2, 1, 1, 1], \n",
    "     'Ye': [1, 2, 2, 2, 2, 3, 2, 3, 3, 3, 4, 3, 4, 4, 5],\n",
    "     'Width': [1,1,1,1,1,1,1,1,1,1,1,1,1,1,1],\n",
    "     'Name': ['OA','AB','AC','AD','BC','BE','CD','CF','DG','EF','EH','FG','FH','GH', 'HI']}\n",
    "df = pd.DataFrame(data=d)\n",
    "df"
   ]
  },
  {
   "cell_type": "markdown",
   "id": "cbf4b549",
   "metadata": {},
   "source": [
    "Instead of having a bloated table, I will define here a few functions that could simply create the extra geometric properties of the network on demand."
   ]
  },
  {
   "cell_type": "code",
   "execution_count": 1036,
   "id": "fd672c6d",
   "metadata": {},
   "outputs": [],
   "source": [
    "#Support geometry functions\n",
    "def section_len(df):\n",
    "    return ((df.Xe-df.Xb)**2+(df.Ye-df.Yb)**2)**0.5\n",
    "\n",
    "def section_angle(df):\n",
    "    return np.arctan((df.Ye-df.Yb)/(df.Xe-df.Xb))"
   ]
  },
  {
   "cell_type": "code",
   "execution_count": 1037,
   "id": "37ac9506",
   "metadata": {},
   "outputs": [
    {
     "data": {
      "text/plain": [
       "0     1.570796\n",
       "1    -0.785398\n",
       "2     1.570796\n",
       "3     0.785398\n",
       "4     0.000000\n",
       "5     1.570796\n",
       "6     0.000000\n",
       "7     1.570796\n",
       "8     1.570796\n",
       "9     0.000000\n",
       "10    0.785398\n",
       "11    0.000000\n",
       "12    1.570796\n",
       "13   -0.785398\n",
       "14    1.570796\n",
       "dtype: float64"
      ]
     },
     "execution_count": 1037,
     "metadata": {},
     "output_type": "execute_result"
    }
   ],
   "source": [
    "section_angle(df)"
   ]
  },
  {
   "cell_type": "code",
   "execution_count": 1038,
   "id": "355b7138",
   "metadata": {},
   "outputs": [
    {
     "data": {
      "text/plain": [
       "[<matplotlib.lines.Line2D at 0x158138023d0>]"
      ]
     },
     "execution_count": 1038,
     "metadata": {},
     "output_type": "execute_result"
    },
    {
     "data": {
      "image/png": "[encoded data removed]",
      "text/plain": [
       "<Figure size 432x288 with 1 Axes>"
      ]
     },
     "metadata": {
      "needs_background": "light"
     },
     "output_type": "display_data"
    }
   ],
   "source": [
    "plt.plot(pf.X,pf.Y, 'ro')"
   ]
  },
  {
   "cell_type": "code",
   "execution_count": 1039,
   "id": "d7678560",
   "metadata": {},
   "outputs": [
    {
     "data": {
      "image/png": "[encoded data removed]",
      "text/plain": [
       "<Figure size 432x288 with 1 Axes>"
      ]
     },
     "metadata": {
      "needs_background": "light"
     },
     "output_type": "display_data"
    }
   ],
   "source": [
    "plt.plot([df.Xb,df.Xe],[df.Yb,df.Ye])\n",
    "for i in range(0,len(df)):\n",
    "    plt.text((df.Xe[i]+df.Xb[i])*0.5,(df.Ye[i]+df.Yb[i])*0.5,str(df.Name[i]))"
   ]
  },
  {
   "cell_type": "markdown",
   "id": "0eea17c7",
   "metadata": {},
   "source": [
    "Create shorter segments"
   ]
  },
  {
   "cell_type": "code",
   "execution_count": 1040,
   "id": "c82e1651",
   "metadata": {},
   "outputs": [],
   "source": [
    "dx = 0.1\n",
    "L = section_len(df)\n",
    "alpha = section_angle(df)\n",
    "X_len = df.Xe-df.Xb \n",
    "Y_len = df.Ye-df.Yb\n",
    "ids = 0\n",
    "\n",
    "DFN_Mat2 = np.array([[],[],[],[],[],[],[]]).T\n",
    "for i in range(0,len(df)):\n",
    "    n_seg = np.floor(L[i]/dx)\n",
    "    d_seg = L/n_seg\n",
    "\n",
    "    for j in range(0,int(n_seg)):\n",
    "        newline00 = int(ids)\n",
    "        newline0 = df.Xb[i] + j*X_len[i]/n_seg\n",
    "        newline1 = df.Yb[i] + j*Y_len[i]/n_seg\n",
    "        newline2 = df.Xb[i] + (j+1)*X_len[i]/n_seg\n",
    "        newline3 = df.Yb[i] + (j+1)*Y_len[i]/n_seg\n",
    "        newline4 = df.Width[i]\n",
    "        newline5 = df.Name[i]\n",
    "        \n",
    "        DFN_Mat2 = np.vstack([DFN_Mat2,[newline00,newline0,newline1,newline2,newline3,newline4,newline5]])\n",
    "        ids = ids+1\n",
    "        \n",
    "\n",
    "sf = pd.DataFrame(DFN_Mat2, columns = ['id','Xb','Yb','Xe','Ye','Width','Name'])\n",
    "sf.iloc[:,1:6] = sf.iloc[:,1:6].astype('float')"
   ]
  },
  {
   "cell_type": "code",
   "execution_count": 1041,
   "id": "e3f41526",
   "metadata": {},
   "outputs": [
    {
     "data": {
      "text/plain": [
       "[<matplotlib.lines.Line2D at 0x158149063d0>]"
      ]
     },
     "execution_count": 1041,
     "metadata": {},
     "output_type": "execute_result"
    },
    {
     "data": {
      "image/png": "[encoded data removed]",
      "text/plain": [
       "<Figure size 432x288 with 1 Axes>"
      ]
     },
     "metadata": {
      "needs_background": "light"
     },
     "output_type": "display_data"
    }
   ],
   "source": [
    "plt.plot(sf.Xe,sf.Ye,'ro')"
   ]
  },
  {
   "cell_type": "markdown",
   "id": "17a8616f",
   "metadata": {},
   "source": [
    "WEIR\n",
    "\n"
   ]
  },
  {
   "cell_type": "code",
   "execution_count": 1042,
   "id": "480009de",
   "metadata": {},
   "outputs": [],
   "source": [
    "#sf.Xb[79] = sf.Xb[79]+0.1\n",
    "#sf.Xe[79] = sf.Xe[79]+0.2\n",
    "W = 1\n",
    "\n",
    "sf.Xb[87] =  sf.Xb[87]+0.05*1"
   ]
  },
  {
   "cell_type": "code",
   "execution_count": 1043,
   "id": "4680ab7d",
   "metadata": {},
   "outputs": [
    {
     "data": {
      "image/png": "[encoded data removed]",
      "text/plain": [
       "<Figure size 720x720 with 1 Axes>"
      ]
     },
     "metadata": {
      "needs_background": "light"
     },
     "output_type": "display_data"
    }
   ],
   "source": [
    "plt.figure(figsize = [10,10])\n",
    "\n",
    "for i in range(0,len(sf)):\n",
    "    plt.plot([sf.Xb[i],sf.Xe[i]],[sf.Yb[i],sf.Ye[i]],lw=sf.Width[i]*5)\n",
    "    plt.text(sf.Xb[i],sf.Yb[i],str(sf.id[i]))"
   ]
  },
  {
   "cell_type": "markdown",
   "id": "0b97cc51",
   "metadata": {},
   "source": [
    "We have to test different discretizations"
   ]
  },
  {
   "cell_type": "markdown",
   "id": "21403fa0",
   "metadata": {},
   "source": [
    "## Connectivity matrix\n",
    "\n",
    "\n",
    "The connectivity matrix explains which segment is connected to which other segments."
   ]
  },
  {
   "cell_type": "code",
   "execution_count": 1044,
   "id": "e102d7b9",
   "metadata": {},
   "outputs": [],
   "source": [
    "eps = 0.001\n",
    "Connect_Mat = np.ones([len(sf),6])*(-999) \n",
    "\n",
    "\n",
    "for i in range(0,len(sf)):\n",
    "        D55 = abs(sf.Xb[:]-sf.Xb[i])\n",
    "        D66 = abs(sf.Yb[:]-sf.Yb[i])\n",
    "        D77 = abs(sf.Xe[:]-sf.Xe[i])\n",
    "        D88 = abs(sf.Ye[:]-sf.Ye[i])\n",
    "        D57 = abs(sf.Xe[:]-sf.Xb[i])\n",
    "        D68 = abs(sf.Ye[:]-sf.Yb[i])\n",
    "        D75 = abs(sf.Xb[:]-sf.Xe[i])\n",
    "        D86 = abs(sf.Yb[:]-sf.Ye[i])\n",
    "        \n",
    "        index = np.where(((D55<=eps) & (D66<=eps)) | ((D77<=eps) & (D88<=eps)) | ((D57<= eps) & (D68<=eps)) | ((D75<=eps) & (D86<=eps)))\n",
    "        k = 0\n",
    "        for j in range(0,min(5,len(index[0]))):\n",
    "            if (index[0][j]!=i):\n",
    "                Connect_Mat[i,k] = index[0][j]\n",
    "                k = k+1"
   ]
  },
  {
   "cell_type": "code",
   "execution_count": 1045,
   "id": "467fb8a7",
   "metadata": {},
   "outputs": [
    {
     "data": {
      "text/plain": [
       "array([[ 139.,  141., -999., -999., -999., -999.],\n",
       "       [ 121.,  140.,  155.,  156., -999., -999.],\n",
       "       [  97.,  131.,  143., -999., -999., -999.],\n",
       "       [ 142.,  144., -999., -999., -999., -999.],\n",
       "       [ 143.,  145., -999., -999., -999., -999.],\n",
       "       [ 144.,  146., -999., -999., -999., -999.],\n",
       "       [ 145.,  147., -999., -999., -999., -999.],\n",
       "       [ 146.,  148., -999., -999., -999., -999.],\n",
       "       [ 147.,  149., -999., -999., -999., -999.],\n",
       "       [ 148.,  150., -999., -999., -999., -999.],\n",
       "       [ 149.,  151., -999., -999., -999., -999.],\n",
       "       [ 150.,  152., -999., -999., -999., -999.],\n",
       "       [ 151.,  153., -999., -999., -999., -999.],\n",
       "       [ 152.,  154., -999., -999., -999., -999.],\n",
       "       [ 153.,  155., -999., -999., -999., -999.],\n",
       "       [ 121.,  141.,  154.,  156., -999., -999.],\n",
       "       [ 121.,  141.,  155.,  157., -999., -999.],\n",
       "       [ 156.,  158., -999., -999., -999., -999.],\n",
       "       [ 157.,  159., -999., -999., -999., -999.],\n",
       "       [ 158.,  160., -999., -999., -999., -999.],\n",
       "       [ 159.,  161., -999., -999., -999., -999.],\n",
       "       [ 160.,  162., -999., -999., -999., -999.],\n",
       "       [ 161.,  163., -999., -999., -999., -999.],\n",
       "       [ 162.,  164., -999., -999., -999., -999.],\n",
       "       [ 163.,  165., -999., -999., -999., -999.],\n",
       "       [ 164., -999., -999., -999., -999., -999.]])"
      ]
     },
     "execution_count": 1045,
     "metadata": {},
     "output_type": "execute_result"
    }
   ],
   "source": [
    "Connect_Mat[140:,:]"
   ]
  },
  {
   "cell_type": "code",
   "execution_count": 1046,
   "id": "5fe6068d",
   "metadata": {},
   "outputs": [
    {
     "data": {
      "text/plain": [
       "<matplotlib.image.AxesImage at 0x15814f2b0a0>"
      ]
     },
     "execution_count": 1046,
     "metadata": {},
     "output_type": "execute_result"
    },
    {
     "data": {
      "image/png": "[encoded data removed]",
      "text/plain": [
       "<Figure size 432x288 with 1 Axes>"
      ]
     },
     "metadata": {
      "needs_background": "light"
     },
     "output_type": "display_data"
    }
   ],
   "source": [
    "plt.imshow(Connect_Mat!=-999)"
   ]
  },
  {
   "cell_type": "markdown",
   "id": "b13f874b",
   "metadata": {},
   "source": [
    "Geometries are prepared, next come the \n",
    "\n",
    "\n",
    "## Physiscs part"
   ]
  },
  {
   "cell_type": "markdown",
   "id": "c3ee6974",
   "metadata": {},
   "source": [
    "Old parameters"
   ]
  },
  {
   "cell_type": "code",
   "execution_count": 1047,
   "id": "10a35d10",
   "metadata": {},
   "outputs": [],
   "source": [
    "#Boundary conditions (pressure for now)\n",
    "BC_coord = np.array(((-1,1,0),(1,1,5)))\n",
    "\n",
    "P_Inj = 1     # Injection pressure [Pa]\n",
    "P_Prod = 0    # Production pressure [Pa]\n",
    "P_ini = 0    # Initial pressure in the fractures [Pa]\n",
    "\n",
    "\n",
    "# +++++++++++++++ these need to be adjusted:\n",
    "Dt_P = 10      # Pressure time step for steady state [sec]\n",
    "DP_time = 10000\n",
    "n_time_P = int(DP_time/Dt_P) # Maximum number of pressure time steps\n",
    "\n",
    "num_Frac = len(sf)\n",
    "\n",
    "AP = np.zeros([num_Frac,num_Frac])  # Init pressure conductivity Matrix(LHS)\n",
    "BP = np.zeros(num_Frac)# Init pressure storativity Vector (RHS)\n",
    "\n",
    "\n",
    "\n",
    "#Solve for steady-state pressure\n",
    "tp = -1\n",
    "#timeP = np.linspace(Dt_P,DP_time,n_time_P)\n",
    "\n",
    "#P_new = [0]*num_Frac\n",
    "BP = np.zeros(num_Frac)\n",
    "APl = np.copy(AP)   #Local variable\n"
   ]
  },
  {
   "cell_type": "markdown",
   "id": "b10c80fc",
   "metadata": {},
   "source": [
    "Hydraulic parameters\n",
    "\n",
    "These need to be adjusted for the surface water flow"
   ]
  },
  {
   "cell_type": "code",
   "execution_count": 1048,
   "id": "e961d5e7",
   "metadata": {},
   "outputs": [],
   "source": [
    "Gamma_P = np.zeros(num_Frac)\n",
    "Gamma_P_tot = np.zeros(num_Frac)\n",
    "Etha_P = np.zeros(num_Frac)\n",
    "\n",
    "Ls = section_len(sf)\n",
    "#A = 1 #aperture originally\n",
    "V = 1 #viscosity originally\n",
    "C = 1 # fluid compressibility originally\n",
    "\n",
    "\n",
    "for i in range(0,num_Frac):\n",
    "        Gamma_P[i] = Dt_P*sf.Width[i]**3/(6*V*Ls[i])   # Transmissivity 1\n",
    "        Etha_P[i] = sf.Width[i]*C*Ls[i]                 # Storativity 1"
   ]
  },
  {
   "cell_type": "code",
   "execution_count": 1049,
   "id": "c36ce1f5",
   "metadata": {},
   "outputs": [],
   "source": [
    "for i in range(0,num_Frac):\n",
    "    Gamma_P_tot[i] = Gamma_P[i]\n",
    "    for j in range(0,6):\n",
    "        cn = int(Connect_Mat[i,j])\n",
    "        if (cn >= 0):\n",
    "            Gamma_P_tot[i] = Gamma_P_tot[i] + Gamma_P[cn]   # if and g1g2 based on index\n",
    "            AP[i,cn] = Gamma_P[i]*Gamma_P[cn]\n",
    "            AP[i,i] = AP[i,i]-Gamma_P[i]*Gamma_P[cn]\n",
    "    AP[i,i] = AP[i,i]/Gamma_P_tot[i] - Etha_P[i]\n",
    "    for j in range(0,6):\n",
    "        cn = int(Connect_Mat[i,j])\n",
    "        if (cn >= 0):\n",
    "            AP[i,cn] = AP[i,cn]/Gamma_P_tot[i]"
   ]
  },
  {
   "cell_type": "code",
   "execution_count": 1050,
   "id": "e5666f68",
   "metadata": {},
   "outputs": [
    {
     "data": {
      "text/plain": [
       "array([[ -8.43333333,   8.33333333,   0.        , ...,   0.        ,\n",
       "          0.        ,   0.        ],\n",
       "       [  5.55555556, -11.21111111,   5.55555556, ...,   0.        ,\n",
       "          0.        ,   0.        ],\n",
       "       [  0.        ,   5.55555556, -11.21111111, ...,   0.        ,\n",
       "          0.        ,   0.        ],\n",
       "       ...,\n",
       "       [  0.        ,   0.        ,   0.        , ..., -11.21111111,\n",
       "          5.55555556,   0.        ],\n",
       "       [  0.        ,   0.        ,   0.        , ...,   5.55555556,\n",
       "        -11.21111111,   5.55555556],\n",
       "       [  0.        ,   0.        ,   0.        , ...,   0.        ,\n",
       "          8.33333333,  -8.43333333]])"
      ]
     },
     "execution_count": 1050,
     "metadata": {},
     "output_type": "execute_result"
    }
   ],
   "source": [
    "AP"
   ]
  },
  {
   "cell_type": "code",
   "execution_count": 1051,
   "id": "e16e727f",
   "metadata": {},
   "outputs": [],
   "source": [
    " # Solve Finite Difference pressure\n",
    "P_old = np.ones(num_Frac)\n",
    "P_new = np.zeros([n_time_P,num_Frac])    \n",
    "\n",
    "tp = -1\n",
    "while (tp < n_time_P-1):\n",
    "    tp = tp + 1\n",
    "\n",
    "    #Apply initial conditions\n",
    "    if (tp==0):\n",
    "        P_old = P_old*P_ini     # Initial pressure\n",
    "    else:\n",
    "        P_old[0:num_Frac] = P_new[tp-1,:]\n",
    "\n",
    "#            for i in range(0,num_Frac):\n",
    "#                BP[i] = -Etha_P[i]*P_old[i]\n",
    "    BP = -Etha_P*P_old\n",
    "\n",
    "    # Apply boundary conditions\n",
    "    APl[0,:] = 0                      #ASK REZA - does not do a lot\n",
    "    APl[0,0] = 1\n",
    "    BP[0] = P_Inj\n",
    "    \n",
    "    APl[len(sf)-1,:] = 0\n",
    "    APl[len(sf)-1,len(sf)-1] = 1\n",
    "    BP[len(sf)-1] = P_Prod\n",
    "    \n",
    "    # Injection points\n",
    "    #APl[int(Inj_id[idinj]),:] = 0\n",
    "    #APl[int(Inj_id[idinj]),int(Inj_id[idinj])] = 1\n",
    "    #BP[int(Inj_id[idinj])] = P_Inj\n",
    "    \n",
    "    #Production points\n",
    "#        for i in range(0,np.shape(Prod_id)[0]):\n",
    "#            APl[int(Prod_id[i]),:] = 0\n",
    "#            APl[int(Prod_id[i]),int(Prod_id[i])] = 1\n",
    "#            BP[int(Prod_id[i])] = P_Prod\n",
    "\n",
    "    # Solver for pressure\n",
    "    #AP2 =  #SPARSE MATRIX NEEDED for performance\n",
    "    AP2 = scipy.sparse.csc_matrix(APl)\n",
    "\n",
    "    P_new[tp,:] = scipy.linalg.solve(AP,BP.T) #standard solution\n",
    "    #P_new[tp,:] = scipy.sparse.linalg.spsolve(AP2,BP.T,permc_spec='MMD_ATA') #Fastest but can be singular\n",
    "    #P_new[tp,:] = scipy.linalg.lstsq(AP,BP.T)[0] #numerical approx\n",
    "    \n",
    "tss = tp\n",
    "\n",
    "P_new = P_new[0:tss+1,:]"
   ]
  },
  {
   "cell_type": "markdown",
   "id": "6289b57a",
   "metadata": {},
   "source": [
    "Plots for pressure"
   ]
  },
  {
   "cell_type": "code",
   "execution_count": 1052,
   "id": "eaf9f706",
   "metadata": {},
   "outputs": [
    {
     "data": {
      "text/plain": [
       "array([[-7.95975628e-01, -6.85527335e-01, -5.87418535e-01, ...,\n",
       "        -2.26575265e-04, -2.20006379e-04, -2.17397607e-04],\n",
       "       [-1.05070622e+00, -9.43314697e-01, -8.40563344e-01, ...,\n",
       "        -1.20573062e-03, -1.17461930e-03, -1.16069101e-03],\n",
       "       [-1.19080497e+00, -1.08509463e+00, -9.81936329e-01, ...,\n",
       "        -3.58978744e-03, -3.50624223e-03, -3.46466624e-03],\n",
       "       ...,\n",
       "       [-5.81359841e+00, -5.76336159e+00, -5.71312549e+00, ...,\n",
       "        -4.27483314e+00, -4.22473673e+00, -4.17464104e+00],\n",
       "       [-5.81363742e+00, -5.76340107e+00, -5.71316543e+00, ...,\n",
       "        -4.27487293e+00, -4.22477606e+00, -4.17467990e+00],\n",
       "       [-5.81367618e+00, -5.76344029e+00, -5.71320511e+00, ...,\n",
       "        -4.27491246e+00, -4.22481513e+00, -4.17471851e+00]])"
      ]
     },
     "execution_count": 1052,
     "metadata": {},
     "output_type": "execute_result"
    }
   ],
   "source": [
    "P_new"
   ]
  },
  {
   "cell_type": "code",
   "execution_count": 1053,
   "id": "6cf9b733",
   "metadata": {},
   "outputs": [
    {
     "data": {
      "text/plain": [
       "[<matplotlib.lines.Line2D at 0x15814e6b460>]"
      ]
     },
     "execution_count": 1053,
     "metadata": {},
     "output_type": "execute_result"
    },
    {
     "data": {
      "image/png": "[encoded data removed]",
      "text/plain": [
       "<Figure size 432x288 with 1 Axes>"
      ]
     },
     "metadata": {
      "needs_background": "light"
     },
     "output_type": "display_data"
    }
   ],
   "source": [
    "plt.plot(P_new[:,140])"
   ]
  },
  {
   "cell_type": "code",
   "execution_count": 1054,
   "id": "f3f4130e",
   "metadata": {},
   "outputs": [
    {
     "data": {
      "text/plain": [
       "<matplotlib.image.AxesImage at 0x15814eb8880>"
      ]
     },
     "execution_count": 1054,
     "metadata": {},
     "output_type": "execute_result"
    },
    {
     "data": {
      "image/png": "[encoded data removed]",
      "text/plain": [
       "<Figure size 432x288 with 1 Axes>"
      ]
     },
     "metadata": {
      "needs_background": "light"
     },
     "output_type": "display_data"
    }
   ],
   "source": [
    "plt.imshow(AP)"
   ]
  },
  {
   "cell_type": "code",
   "execution_count": 1055,
   "id": "9405094c",
   "metadata": {},
   "outputs": [
    {
     "name": "stderr",
     "output_type": "stream",
     "text": [
      "C:\\Users\\Mark\\AppData\\Local\\Temp/ipykernel_2396/2113599058.py:17: MatplotlibDeprecationWarning: Starting from Matplotlib 3.6, colorbar() will steal space from the mappable's axes, rather than from the current axes, to place the colorbar.  To silence this warning, explicitly pass the 'ax' argument to colorbar().\n",
      "  plt.colorbar(CS3)\n"
     ]
    },
    {
     "data": {
      "text/plain": [
       "<matplotlib.colorbar.Colorbar at 0x15815423a90>"
      ]
     },
     "execution_count": 1055,
     "metadata": {},
     "output_type": "execute_result"
    },
    {
     "data": {
      "text/plain": [
       "<Figure size 432x288 with 0 Axes>"
      ]
     },
     "metadata": {},
     "output_type": "display_data"
    },
    {
     "data": {
      "image/png": "[encoded data removed]",
      "text/plain": [
       "<Figure size 432x288 with 2 Axes>"
      ]
     },
     "metadata": {
      "needs_background": "light"
     },
     "output_type": "display_data"
    }
   ],
   "source": [
    "time = 999\n",
    "P_norm = (P_new[time,:]-min(P_new[time,:]))/(max(P_new[time,:])-min(P_new[time,:]))\n",
    "cmap = matplotlib.cm.get_cmap('jet')\n",
    "\n",
    "Z = [[0,0],[0,0]]\n",
    "levels = range(0,101,1)\n",
    "CS3 = plt.contourf(Z, levels, cmap=cmap)\n",
    "plt.clf()\n",
    "\n",
    "\n",
    "fig = plt.figure()\n",
    "for i in range(0,len(sf)):\n",
    "    plot = plt.plot([sf.Xb[i],sf.Xe[i]],[sf.Yb[i],sf.Ye[i]],color=cmap(P_norm[i]))\n",
    "\n",
    "    \n",
    "\n",
    "plt.colorbar(CS3)"
   ]
  },
  {
   "cell_type": "markdown",
   "id": "c1dc906c",
   "metadata": {},
   "source": [
    "Calculate velocities next\n",
    "(I am not sure if this is going to be needed in the end)"
   ]
  },
  {
   "cell_type": "code",
   "execution_count": 1056,
   "id": "7061dfa7",
   "metadata": {},
   "outputs": [],
   "source": [
    "#Estimate velocity\n",
    "num_up = np.zeros(num_Frac)\n",
    "V = np.zeros(num_Frac)\n",
    "for i in range(0,num_Frac):\n",
    "    P_Max = P_new[tss,i]\n",
    "    num_up[i] = i\n",
    "    for j in range(0,6):\n",
    "        cn = int(Connect_Mat[i,j])\n",
    "        if (cn >= 0 and P_new[tp,cn] > P_Max):\n",
    "            P_Max = P_new[tp,cn]\n",
    "            num_up[i] = cn\n",
    "\n",
    "        V[i] = 1**2/(12*1*2)*(P_Max-P_new[tp,i])\n"
   ]
  },
  {
   "cell_type": "markdown",
   "id": "6bee1705",
   "metadata": {},
   "source": [
    "Plotting out velocity distribution"
   ]
  },
  {
   "cell_type": "code",
   "execution_count": 1059,
   "id": "c3c3461f",
   "metadata": {},
   "outputs": [
    {
     "data": {
      "image/png": "[encoded data removed]",
      "text/plain": [
       "<Figure size 432x288 with 1 Axes>"
      ]
     },
     "metadata": {
      "needs_background": "light"
     },
     "output_type": "display_data"
    }
   ],
   "source": [
    "V_norm = (V-min(V))/(max(V)-min(V))\n",
    "cmap = matplotlib.cm.get_cmap('jet')\n",
    "\n",
    "for i in range(0,len(sf)):\n",
    "    plt.plot([sf.Xb[i],sf.Xe[i]],[sf.Yb[i],sf.Ye[i]],color=cmap(V_norm[i]))\n",
    "    \n",
    "#plt.plot([sf.Xb,sf.Xe],[sf.Yb,sf.Ye],color=cmap(V_norm))\n",
    "    "
   ]
  },
  {
   "cell_type": "markdown",
   "id": "c481c85f",
   "metadata": {},
   "source": [
    "SOmething like discharge"
   ]
  },
  {
   "cell_type": "code",
   "execution_count": 1060,
   "id": "ef77968d",
   "metadata": {},
   "outputs": [
    {
     "data": {
      "image/png": "[encoded data removed]",
      "text/plain": [
       "<Figure size 432x288 with 1 Axes>"
      ]
     },
     "metadata": {
      "needs_background": "light"
     },
     "output_type": "display_data"
    }
   ],
   "source": [
    "V2 = V*sf.Width*1\n",
    "V2_norm = (V2-min(V2))/(max(V2)-min(V2))\n",
    "cmap = matplotlib.cm.get_cmap('jet')\n",
    "\n",
    "for i in range(0,len(sf)):\n",
    "    plt.plot([sf.Xb[i],sf.Xe[i]],[sf.Yb[i],sf.Ye[i]],color=cmap(V2_norm[i]))\n",
    "    \n",
    "#plt.plot([sf.Xb,sf.Xe],[sf.Yb,sf.Ye],color=cmap(V_norm))\n",
    "    "
   ]
  },
  {
   "cell_type": "markdown",
   "id": "b1c7b441",
   "metadata": {},
   "source": [
    "Summary figure"
   ]
  },
  {
   "cell_type": "code",
   "execution_count": 1065,
   "id": "2e482598",
   "metadata": {},
   "outputs": [
    {
     "data": {
      "image/png": "[encoded data removed]",
      "text/plain": [
       "<Figure size 432x288 with 4 Axes>"
      ]
     },
     "metadata": {
      "needs_background": "light"
     },
     "output_type": "display_data"
    }
   ],
   "source": [
    "plt.subplot(2,2,1)\n",
    "for i in range(0,len(sf)):\n",
    "    plt.plot([sf.Xb[i],sf.Xe[i]],[sf.Yb[i],sf.Ye[i]],lw=sf.Width[i]*2)\n",
    "    #plt.text(sf.Xb[i],sf.Yb[i],str(sf.id[i]))\n",
    "    \n",
    "    \n",
    "plt.subplot(2,2,2)\n",
    "plt.plot(P_new[:,23])\n",
    "\n",
    "plt.subplot(2,2,3)\n",
    "time = 999\n",
    "P_norm = (P_new[time,:]-min(P_new[time,:]))/(max(P_new[time,:])-min(P_new[time,:]))\n",
    "cmap = matplotlib.cm.get_cmap('jet')\n",
    "\n",
    "for i in range(0,len(sf)):\n",
    "    plot = plt.plot([sf.Xb[i],sf.Xe[i]],[sf.Yb[i],sf.Ye[i]],color=cmap(P_norm[i]))\n",
    "    \n",
    "    \n",
    "plt.subplot(2,2,4)\n",
    "V2 = V*sf.Width*1\n",
    "V2_norm = (V2-min(V2))/(max(V2)-min(V2))\n",
    "cmap = matplotlib.cm.get_cmap('jet')\n",
    "\n",
    "for i in range(0,len(sf)):\n",
    "    plt.plot([sf.Xb[i],sf.Xe[i]],[sf.Yb[i],sf.Ye[i]],color=cmap(V2_norm[i]))"
   ]
  },
  {
   "cell_type": "code",
   "execution_count": null,
   "id": "a267e766",
   "metadata": {},
   "outputs": [],
   "source": []
  }
 ],
 "metadata": {
  "kernelspec": {
   "display_name": "Python 3 (ipykernel)",
   "language": "python",
   "name": "python3"
  },
  "language_info": {
   "codemirror_mode": {
    "name": "ipython",
    "version": 3
   },
   "file_extension": ".py",
   "mimetype": "text/x-python",
   "name": "python",
   "nbconvert_exporter": "python",
   "pygments_lexer": "ipython3",
   "version": "3.9.7"
  }
 },
 "nbformat": 4,
 "nbformat_minor": 5
}
